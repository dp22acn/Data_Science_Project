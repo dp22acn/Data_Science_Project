{
  "nbformat": 4,
  "nbformat_minor": 0,
  "metadata": {
    "colab": {
      "private_outputs": true,
      "provenance": [],
      "gpuType": "L4",
      "machine_shape": "hm",
      "authorship_tag": "ABX9TyOFi7uDEX2Mccl2R1oIxJzV",
      "include_colab_link": true
    },
    "kernelspec": {
      "name": "python3",
      "display_name": "Python 3"
    },
    "language_info": {
      "name": "python"
    },
    "accelerator": "GPU"
  },
  "cells": [
    {
      "cell_type": "markdown",
      "metadata": {
        "id": "view-in-github",
        "colab_type": "text"
      },
      "source": [
        "<a href=\"https://colab.research.google.com/github/dp22acn/Data_Science_Project/blob/main/Characters_extraction_For_Automated_approach.ipynb\" target=\"_parent\"><img src=\"https://colab.research.google.com/assets/colab-badge.svg\" alt=\"Open In Colab\"/></a>"
      ]
    },
    {
      "cell_type": "markdown",
      "source": [
        "**Task 1 : Extracting the Character Names from Mahabharata Books**"
      ],
      "metadata": {
        "id": "nGqXL2sY4tdu"
      }
    },
    {
      "cell_type": "code",
      "source": [
        "pip install spacy"
      ],
      "metadata": {
        "id": "KuQ837OHAUXU"
      },
      "execution_count": null,
      "outputs": []
    },
    {
      "cell_type": "code",
      "source": [
        "pip install rapidfuzz"
      ],
      "metadata": {
        "id": "eAlX_57ZBM5A"
      },
      "execution_count": null,
      "outputs": []
    },
    {
      "cell_type": "code",
      "source": [
        "from google.colab import drive\n",
        "drive.mount('/content/drive')"
      ],
      "metadata": {
        "id": "vumuibT9Aml_"
      },
      "execution_count": null,
      "outputs": []
    },
    {
      "cell_type": "markdown",
      "source": [
        "This Gives Top characters with count"
      ],
      "metadata": {
        "id": "KURs-YiW7cQj"
      }
    },
    {
      "cell_type": "code",
      "source": [
        "import os\n",
        "import re\n",
        "import spacy\n",
        "from collections import Counter\n",
        "\n",
        "# Load SpaCy model\n",
        "nlp = spacy.load(\"en_core_web_sm\")\n",
        "nlp.max_length = 1500000  # Increase limit to 1.5M characters (adjust as needed)\n",
        "\n",
        "# Function to preprocess text\n",
        "def preprocess_text(text):\n",
        "    \"\"\"\n",
        "    Cleans the input text by removing special characters and extra spaces.\n",
        "    \"\"\"\n",
        "    text = re.sub(r'[^\\w\\s]', '', text)  # this Removes special characters\n",
        "    text = re.sub(r'\\s+', ' ', text).strip()  # this Removes extra spaces\n",
        "    return text\n",
        "\n",
        "# Function to split text into smaller chunks\n",
        "def split_into_chunks(text, max_chunk_size=1000000):\n",
        "    \"\"\"\n",
        "    Splits the text into chunks smaller than max_chunk_size for processing.\n",
        "    \"\"\"\n",
        "    return [text[i:i + max_chunk_size] for i in range(0, len(text), max_chunk_size)]\n",
        "\n",
        "# Function to extract character names from text chunks\n",
        "def extract_characters_from_chunk(text_chunk):\n",
        "    \"\"\"\n",
        "    Extracts character names from a text chunk using SpaCy's Named Entity Recognition (NER).\n",
        "    \"\"\"\n",
        "    doc = nlp(text_chunk)\n",
        "    return [ent.text for ent in doc.ents if ent.label_ == \"PERSON\"]\n",
        "\n",
        "# Process all books in a folder and count name occurrences\n",
        "def process_books_count_names(folder_path):\n",
        "    \"\"\"\n",
        "    Processes all text files in the folder, extracts character names, and counts their occurrences.\n",
        "    \"\"\"\n",
        "    name_counter = Counter()\n",
        "\n",
        "    for file_name in os.listdir(folder_path):\n",
        "        if file_name.endswith(\".txt\"):  # Ensure only text files are processed\n",
        "            file_path = os.path.join(folder_path, file_name)\n",
        "            print(f\"Processing {file_path}...\")\n",
        "\n",
        "            # Read and preprocess the book content\n",
        "            with open(file_path, \"r\", encoding=\"utf-8\") as f:\n",
        "                text = f.read()\n",
        "                clean_text = preprocess_text(text)\n",
        "\n",
        "            # Split text into chunks to avoid exceeding nlp.max_length\n",
        "            text_chunks = split_into_chunks(clean_text, max_chunk_size=nlp.max_length)\n",
        "            for chunk in text_chunks:\n",
        "                extracted_names = extract_characters_from_chunk(chunk)\n",
        "                name_counter.update(extracted_names)\n",
        "\n",
        "    return name_counter\n",
        "\n",
        "# Filter top names by frequency\n",
        "def get_top_names(name_counter, min_occurrences=20):\n",
        "    \"\"\"\n",
        "    Filters names that occur at least 'min_occurrences' times.\n",
        "    \"\"\"\n",
        "    return {name: count for name, count in name_counter.items() if count >= min_occurrences}\n",
        "\n",
        "# Main script\n",
        "if __name__ == \"__main__\":\n",
        "    # Path to the folder containing the Mahabharata books\n",
        "    folder_path = \"/content/drive/MyDrive/mahatxt\"  # Update this with the actual path\n",
        "\n",
        "    # Process books and count character name occurrences\n",
        "    name_counter = process_books_count_names(folder_path)\n",
        "\n",
        "    # Filter the most frequently occurring names\n",
        "    top_names = get_top_names(name_counter, min_occurrences=5)  # Adjust threshold as needed\n",
        "\n",
        "    # Save results to a file or display\n",
        "    output_file = \"top_characters_with_counts.txt\"\n",
        "    with open(output_file, \"w\", encoding=\"utf-8\") as f:\n",
        "        for name, count in sorted(top_names.items(), key=lambda x: x[1], reverse=True):\n",
        "            f.write(f\"{name}: {count}\\n\")\n",
        "\n",
        "    print(f\"Character extraction complete. Results saved to {output_file}.\")\n"
      ],
      "metadata": {
        "id": "x0UB24AOlhcW"
      },
      "execution_count": null,
      "outputs": []
    },
    {
      "cell_type": "code",
      "source": [
        "import re\n",
        "import pandas as pd\n",
        "\n",
        "def process_character_names(file_path, output_path):\n",
        "    temp_result = []\n",
        "\n",
        "    with open(file_path, 'r', encoding='utf-8') as file:\n",
        "        for line in file:\n",
        "            # Remove numbers and trailing \"n\" or spaces\n",
        "            cleaned_line = re.sub(r':\\s*\\d+[n]?', '', line).strip()\n",
        "\n",
        "            # Split the line by commas\n",
        "            names = [name.strip() for name in cleaned_line.split(',')]\n",
        "\n",
        "            # Ensure the first name is the label\n",
        "            if names:\n",
        "                label = names[0]\n",
        "                alternative_names = names[1:]\n",
        "                temp_result.append({\"label\": label, \"alternative_names\": alternative_names})\n",
        "\n",
        "    # Combine rows with the same label\n",
        "    result = {}\n",
        "    for entry in temp_result:\n",
        "        label = entry['label']\n",
        "        alt_names = entry['alternative_names']\n",
        "\n",
        "        if label not in result:\n",
        "            result[label] = set(alt_names)  # Use a set to avoid duplicates\n",
        "        else:\n",
        "            result[label].update(alt_names)  # Merge alternative names for repeated labels\n",
        "\n",
        "    # Convert back to a structured format and remove duplicates from alternatives\n",
        "    final_result = []\n",
        "    for label, alt_names in result.items():\n",
        "        # Remove duplicates from alternative names and ensure no label appears in alternatives\n",
        "        alt_names = sorted(set(alt_names) - {label})\n",
        "        final_result.append({\"label\": label, \"alternative_names\": \", \".join(alt_names)})\n",
        "\n",
        "    # Save results to a CSV\n",
        "    df = pd.DataFrame(final_result)\n",
        "    df.to_csv(output_path, index=False)\n",
        "    print(f\"Processed names saved to {output_path}.\")\n",
        "    return final_result\n",
        "\n",
        "# Input and output file paths\n",
        "file_path = \"top_characters_with_counts.txt\"\n",
        "output_path = \"/content/processed_names.csv\"\n",
        "\n",
        "# Process the file and save results\n",
        "processed_data = process_character_names(file_path, output_path)\n",
        "\n",
        "# Display the output\n",
        "for entry in processed_data:\n",
        "    print(f\"Label: {entry['label']}, Alternative Names: {entry['alternative_names']}\")\n"
      ],
      "metadata": {
        "id": "nqK1FrJ2eU9U"
      },
      "execution_count": null,
      "outputs": []
    }
  ]
}